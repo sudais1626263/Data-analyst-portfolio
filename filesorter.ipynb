{
 "cells": [
  {
   "cell_type": "code",
   "execution_count": 33,
   "id": "e43b509e-b029-4023-999e-9f75f6b6430d",
   "metadata": {},
   "outputs": [],
   "source": [
    "import os, shutil"
   ]
  },
  {
   "cell_type": "code",
   "execution_count": 35,
   "id": "576969a8-484b-4a90-8a54-213ff3ce568f",
   "metadata": {},
   "outputs": [],
   "source": [
    "path=r\"C:/Users/PMLS/OneDrive/Desktop/project/\""
   ]
  },
  {
   "cell_type": "code",
   "execution_count": 37,
   "id": "e6cf13cf-7f2d-4cf0-9e41-16c72b063802",
   "metadata": {},
   "outputs": [],
   "source": [
    "file_name= os.listdir(path)"
   ]
  },
  {
   "cell_type": "code",
   "execution_count": 39,
   "id": "4b4d5f45-563a-4736-9b68-ae1d92393cfe",
   "metadata": {},
   "outputs": [],
   "source": [
    "folder_name=[\"csv files\",\"text files\",\"png files\"]\n",
    "for loop in range(0,3):\n",
    "    if not os.path.exists(path+folder_name[loop]):\n",
    "        os.makedirs(path+folder_name[loop])\n",
    "for file in file_name:\n",
    "    if \".csv\" in file and not os.path.exists(path+\"csv files/\"+file):\n",
    "        shutil.move(path+file,path+\"csv files/\"+file)\n",
    "    elif \".png\" in file and not os.path.exists(path+\"png files/\"+file):\n",
    "        shutil.move(path+file,path+\"png files/\"+file)\n",
    "    elif \".txt\" in file and not os.path.exists(path+\"text files/\"+file):\n",
    "        shutil.move(path+file,path+\"text files/\"+file)\n",
    "        "
   ]
  },
  {
   "cell_type": "code",
   "execution_count": null,
   "id": "82e70bf5-fa26-4324-ac9e-c441cc4ca90f",
   "metadata": {},
   "outputs": [],
   "source": []
  },
  {
   "cell_type": "code",
   "execution_count": null,
   "id": "3ab73834-df83-4804-9f6e-4923d02ec85e",
   "metadata": {},
   "outputs": [],
   "source": []
  },
  {
   "cell_type": "code",
   "execution_count": null,
   "id": "6841ea0a-ee4d-486a-9634-77aefc184aa8",
   "metadata": {},
   "outputs": [],
   "source": []
  },
  {
   "cell_type": "code",
   "execution_count": null,
   "id": "312eb4ef-7bd8-4fb7-889e-3135c1bbea58",
   "metadata": {},
   "outputs": [],
   "source": []
  },
  {
   "cell_type": "code",
   "execution_count": null,
   "id": "a12b5b4f-e50b-4dbf-8928-4cef35e13f3d",
   "metadata": {},
   "outputs": [],
   "source": []
  },
  {
   "cell_type": "code",
   "execution_count": null,
   "id": "672142ea-4f86-43a1-b55b-b3a1f9d2ddcc",
   "metadata": {},
   "outputs": [],
   "source": []
  },
  {
   "cell_type": "code",
   "execution_count": null,
   "id": "96d7e4b4-dc90-4053-84ca-8cea3bdc3f75",
   "metadata": {},
   "outputs": [],
   "source": []
  }
 ],
 "metadata": {
  "kernelspec": {
   "display_name": "Python [conda env:base] *",
   "language": "python",
   "name": "conda-base-py"
  },
  "language_info": {
   "codemirror_mode": {
    "name": "ipython",
    "version": 3
   },
   "file_extension": ".py",
   "mimetype": "text/x-python",
   "name": "python",
   "nbconvert_exporter": "python",
   "pygments_lexer": "ipython3",
   "version": "3.12.7"
  }
 },
 "nbformat": 4,
 "nbformat_minor": 5
}
